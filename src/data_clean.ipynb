{
 "cells": [
  {
   "cell_type": "code",
   "execution_count": 1,
   "metadata": {},
   "outputs": [],
   "source": [
    "import pandas as pd\n",
    "import numpy as np\n",
    "import json\n",
    "import re"
   ]
  },
  {
   "cell_type": "code",
   "execution_count": 2,
   "metadata": {},
   "outputs": [],
   "source": [
    "pay = pd.read_csv('../data/ceo data pay/ceo_data_pay_merged_r3000.csv')"
   ]
  },
  {
   "cell_type": "code",
   "execution_count": 3,
   "metadata": {},
   "outputs": [],
   "source": [
    "pay = pay.drop(columns=['Unnamed: 0','pay_ratio'])"
   ]
  },
  {
   "cell_type": "code",
   "execution_count": 4,
   "metadata": {},
   "outputs": [
    {
     "name": "stderr",
     "output_type": "stream",
     "text": [
      "C:\\Users\\jorge\\AppData\\Local\\Temp\\ipykernel_17296\\2338073337.py:1: FutureWarning: The default value of regex will change from True to False in a future version. In addition, single character regular expressions will *not* be treated as literal strings when regex=True.\n",
      "  pay['median_worker_pay'] = pay['median_worker_pay'].str.replace(',','').str.replace('$','')\n",
      "C:\\Users\\jorge\\AppData\\Local\\Temp\\ipykernel_17296\\2338073337.py:2: FutureWarning: The default value of regex will change from True to False in a future version. In addition, single character regular expressions will *not* be treated as literal strings when regex=True.\n",
      "  pay['salary'] = pay['salary'].str.replace(',','').str.replace('$','')\n"
     ]
    }
   ],
   "source": [
    "pay['median_worker_pay'] = pay['median_worker_pay'].str.replace(',','').str.replace('$','')\n",
    "pay['salary'] = pay['salary'].str.replace(',','').str.replace('$','')\n",
    "pay['industry'] = pay['industry'].str.replace('%20',' ')\n",
    "pay['company_name'] = pay['company_name'].str.replace(',','')"
   ]
  },
  {
   "cell_type": "code",
   "execution_count": 5,
   "metadata": {},
   "outputs": [],
   "source": [
    "pay['salary'] = pay['salary'].astype(int)\n",
    "pay['median_worker_pay'] = pay['median_worker_pay'].astype(int)"
   ]
  },
  {
   "cell_type": "code",
   "execution_count": 6,
   "metadata": {},
   "outputs": [],
   "source": [
    "\n",
    "pay.drop(index=pay[(pay['salary'] == 0) | (pay['median_worker_pay'] == 0)].index,inplace=True)"
   ]
  },
  {
   "cell_type": "code",
   "execution_count": 10,
   "metadata": {},
   "outputs": [],
   "source": [
    "pay['ratio'] = round(pay['salary'] / pay['median_worker_pay'])\n",
    "pay['ratio'] = pay['ratio'].astype(int)"
   ]
  },
  {
   "cell_type": "code",
   "execution_count": 12,
   "metadata": {},
   "outputs": [],
   "source": [
    "pay.to_csv('../data/ceo data pay/clean.csv',index=False)"
   ]
  },
  {
   "cell_type": "code",
   "execution_count": 98,
   "metadata": {},
   "outputs": [],
   "source": [
    "lays = pd.read_csv('../data/tech layoffs/tech_layoffs.csv')"
   ]
  },
  {
   "cell_type": "code",
   "execution_count": 99,
   "metadata": {},
   "outputs": [],
   "source": [
    "lays = lays.drop(columns=['additional_notes'])"
   ]
  },
  {
   "cell_type": "code",
   "execution_count": 100,
   "metadata": {},
   "outputs": [],
   "source": [
    "def new_col(col,*args):\n",
    "    z = lays['industry'].apply(lambda x : x.lower())\n",
    "    lays[col] = z.str.contains(col.lower())\n",
    "    for arg in args:\n",
    "        lays[col]+= z.str.contains(arg.lower())"
   ]
  },
  {
   "cell_type": "code",
   "execution_count": 101,
   "metadata": {},
   "outputs": [],
   "source": [
    "new_col('Fintech','finance','financial','payment')\n",
    "new_col('Real estate','proptech')\n",
    "new_col('SaaS','software','crm')\n",
    "new_col('Ecommerce','e-commerce','sales','retail')\n",
    "new_col('Logistics','shipping','transport')\n",
    "new_col('Energy','solar','renewable')\n",
    "new_col('Marketing','Advertising','advert','adtech')\n",
    "new_col('Food','drink','beverage')\n",
    "new_col('Health','wellness','beauty')\n",
    "new_col('Crypto','blockchain','nft')\n",
    "new_col('Journalism','news','media','sport')\n",
    "new_col('Analytics')\n",
    "new_col('Artificial Intelligence','ai','machine','predictive')\n",
    "new_col('Security','surveillance')\n",
    "new_col('Cloud')\n",
    "new_col('IT','information technology','productivity','HR','human','customer service')\n",
    "new_col('Insurance','insur')\n",
    "new_col('Video Games','game','gaming')"
   ]
  },
  {
   "cell_type": "code",
   "execution_count": 102,
   "metadata": {},
   "outputs": [],
   "source": [
    "newtable = lays.copy()\n",
    "newtable = newtable.drop(columns = ['total_layoffs','impacted_workforce_percentage','reported_date',\n",
    "                          'industry','headquarter_location','sources','status'])"
   ]
  },
  {
   "cell_type": "code",
   "execution_count": 105,
   "metadata": {},
   "outputs": [
    {
     "data": {
      "text/plain": [
       "Index(['company', 'Fintech', 'Real estate', 'SaaS', 'Ecommerce', 'Logistics',\n",
       "       'Energy', 'Marketing', 'Food', 'Health', 'Crypto', 'Journalism',\n",
       "       'Analytics', 'Artificial Intelligence', 'Security', 'Cloud', 'IT',\n",
       "       'Insurance', 'Video Games'],\n",
       "      dtype='object')"
      ]
     },
     "execution_count": 105,
     "metadata": {},
     "output_type": "execute_result"
    }
   ],
   "source": []
  },
  {
   "cell_type": "code",
   "execution_count": null,
   "metadata": {},
   "outputs": [],
   "source": []
  }
 ],
 "metadata": {
  "kernelspec": {
   "display_name": "base",
   "language": "python",
   "name": "python3"
  },
  "language_info": {
   "codemirror_mode": {
    "name": "ipython",
    "version": 3
   },
   "file_extension": ".py",
   "mimetype": "text/x-python",
   "name": "python",
   "nbconvert_exporter": "python",
   "pygments_lexer": "ipython3",
   "version": "3.9.16"
  },
  "orig_nbformat": 4,
  "vscode": {
   "interpreter": {
    "hash": "9412b45e6a57aa9914730508726d49801d3b2c579f461e1fb13c705887a7b1f6"
   }
  }
 },
 "nbformat": 4,
 "nbformat_minor": 2
}
