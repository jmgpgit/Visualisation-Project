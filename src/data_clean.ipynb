{
 "cells": [
  {
   "cell_type": "code",
   "execution_count": 2,
   "metadata": {},
   "outputs": [],
   "source": [
    "import pandas as pd\n",
    "import numpy as np"
   ]
  },
  {
   "cell_type": "code",
   "execution_count": 3,
   "metadata": {},
   "outputs": [],
   "source": [
    "pay = pd.read_csv('../data/ceo data pay/ceo_data_pay_merged_r3000.csv')"
   ]
  },
  {
   "cell_type": "code",
   "execution_count": 4,
   "metadata": {},
   "outputs": [],
   "source": [
    "pay = pay.drop(columns=['Unnamed: 0','pay_ratio'])"
   ]
  },
  {
   "cell_type": "code",
   "execution_count": 5,
   "metadata": {},
   "outputs": [
    {
     "name": "stderr",
     "output_type": "stream",
     "text": [
      "C:\\Users\\jorge\\AppData\\Local\\Temp\\ipykernel_11976\\2338073337.py:1: FutureWarning: The default value of regex will change from True to False in a future version. In addition, single character regular expressions will *not* be treated as literal strings when regex=True.\n",
      "  pay['median_worker_pay'] = pay['median_worker_pay'].str.replace(',','').str.replace('$','')\n",
      "C:\\Users\\jorge\\AppData\\Local\\Temp\\ipykernel_11976\\2338073337.py:2: FutureWarning: The default value of regex will change from True to False in a future version. In addition, single character regular expressions will *not* be treated as literal strings when regex=True.\n",
      "  pay['salary'] = pay['salary'].str.replace(',','').str.replace('$','')\n"
     ]
    }
   ],
   "source": [
    "pay['median_worker_pay'] = pay['median_worker_pay'].str.replace(',','').str.replace('$','')\n",
    "pay['salary'] = pay['salary'].str.replace(',','').str.replace('$','')\n",
    "pay['industry'] = pay['industry'].str.replace('%20',' ')\n",
    "pay['company_name'] = pay['company_name'].str.replace(',','')"
   ]
  },
  {
   "cell_type": "code",
   "execution_count": 6,
   "metadata": {},
   "outputs": [],
   "source": [
    "pay['salary'] = pay['salary'].astype(int)\n",
    "pay['median_worker_pay'] = pay['median_worker_pay'].astype(int)"
   ]
  },
  {
   "cell_type": "code",
   "execution_count": 7,
   "metadata": {},
   "outputs": [],
   "source": [
    "\n",
    "pay.drop(index=pay[(pay['salary'] == 0) | (pay['median_worker_pay'] == 0)].index,inplace=True)"
   ]
  },
  {
   "cell_type": "code",
   "execution_count": 8,
   "metadata": {},
   "outputs": [],
   "source": [
    "pay['ratio'] = round(pay['salary'] / pay['median_worker_pay'])\n",
    "pay['ratio'] = pay['ratio'].astype(int)"
   ]
  },
  {
   "cell_type": "code",
   "execution_count": 9,
   "metadata": {},
   "outputs": [],
   "source": [
    "pay.to_csv('../data/ceo data pay/clean.csv',index=False)"
   ]
  },
  {
   "cell_type": "code",
   "execution_count": 10,
   "metadata": {},
   "outputs": [],
   "source": [
    "lays = pd.read_csv('../data/tech layoffs/tech_layoffs.csv')"
   ]
  },
  {
   "cell_type": "code",
   "execution_count": 11,
   "metadata": {},
   "outputs": [],
   "source": [
    "lays = lays.drop(columns=['additional_notes'])\n",
    "lays = lays.drop(index=lays[lays['company'].duplicated()].index)\n",
    "lays = lays.reset_index(drop=True)"
   ]
  },
  {
   "cell_type": "code",
   "execution_count": 12,
   "metadata": {},
   "outputs": [],
   "source": [
    "def new_col(col,*args):\n",
    "    z = lays['industry'].apply(lambda x : x.lower())\n",
    "    lays[col] = z.str.contains(col.lower())\n",
    "    for arg in args:\n",
    "        lays[col]+= z.str.contains(arg.lower())"
   ]
  },
  {
   "cell_type": "code",
   "execution_count": 13,
   "metadata": {},
   "outputs": [],
   "source": [
    "new_col('Fintech','finance','financial','payment')\n",
    "new_col('Real estate','proptech')\n",
    "new_col('SaaS','software','crm')\n",
    "new_col('Ecommerce','e-commerce','sales','retail')\n",
    "new_col('Logistics','shipping','transport')\n",
    "new_col('Energy','solar','renewable')\n",
    "new_col('Marketing','Advertising','advert','adtech')\n",
    "new_col('Food','drink','beverage')\n",
    "new_col('Health','wellness','beauty')\n",
    "new_col('Crypto','blockchain','nft')\n",
    "new_col('Journalism','news','media','sport')\n",
    "new_col('Analytics')\n",
    "new_col('Artificial Intelligence','ai','machine','predictive')\n",
    "new_col('Security','surveillance')\n",
    "new_col('Cloud')\n",
    "new_col('IT','information technology','productivity','HR','human','customer service')\n",
    "new_col('Insurance','insur')\n",
    "new_col('Video Games','game','gaming')"
   ]
  },
  {
   "cell_type": "code",
   "execution_count": 14,
   "metadata": {},
   "outputs": [],
   "source": [
    "company_industry = lays.copy()\n",
    "company_industry = company_industry.drop(columns = ['total_layoffs','impacted_workforce_percentage','reported_date',\n",
    "                          'industry','headquarter_location','sources','status'])"
   ]
  },
  {
   "cell_type": "code",
   "execution_count": 15,
   "metadata": {},
   "outputs": [],
   "source": [
    "company_industry['Industries'] = ' '\n",
    "for l,i in enumerate(company_industry.itertuples()):\n",
    "    industry_list = []\n",
    "    for k,j in enumerate(i[2:-1]):\n",
    "        if j:\n",
    "            industry_list.append(k+1)\n",
    "    company_industry.at[ l , 'Industries'] = industry_list"
   ]
  },
  {
   "cell_type": "code",
   "execution_count": 16,
   "metadata": {},
   "outputs": [],
   "source": [
    "industry = pd.DataFrame(columns = ['id','industry'])\n",
    "for i,j in enumerate(company_industry.columns[1:-1]):\n",
    "    industry.at[i,'industry'] = j\n",
    "    industry.at[i,'id'] = i+1\n",
    "company_industry = company_industry[['company','Industries']]"
   ]
  },
  {
   "cell_type": "code",
   "execution_count": 17,
   "metadata": {},
   "outputs": [],
   "source": [
    "company_industry = company_industry.explode('Industries')\n",
    "company_industry =  company_industry.drop(index = company_industry[company_industry['Industries'].isna()].index)\n",
    "company_industry.reset_index(drop=True)\n",
    "lays = lays[lays.columns[:8]]"
   ]
  },
  {
   "cell_type": "code",
   "execution_count": 18,
   "metadata": {},
   "outputs": [],
   "source": [
    "lays['impacted_workforce_percentage'][lays['impacted_workforce_percentage']=='Unclear'] = np.nan\n",
    "lays['total_layoffs'][lays['total_layoffs']=='Unclear'] = np.nan"
   ]
  },
  {
   "cell_type": "code",
   "execution_count": 19,
   "metadata": {},
   "outputs": [],
   "source": [
    "lays['total_layoffs'] = lays['total_layoffs'].astype(float)\n",
    "lays['impacted_workforce_percentage'] = lays['impacted_workforce_percentage'].astype(float)"
   ]
  },
  {
   "cell_type": "code",
   "execution_count": 20,
   "metadata": {},
   "outputs": [],
   "source": [
    "lays.to_csv('../data/tech layoffs/layoffs.csv',index=False)\n",
    "industry.to_csv('../data/tech layoffs/industry.csv',index=False)\n",
    "company_industry.to_csv('../data/tech layoffs/company_industry.csv',index=False)\n"
   ]
  },
  {
   "attachments": {},
   "cell_type": "markdown",
   "metadata": {},
   "source": [
    "### Fuzzy Merge Layoffs and CEO Pays"
   ]
  },
  {
   "cell_type": "code",
   "execution_count": 24,
   "metadata": {},
   "outputs": [],
   "source": [
    "import difflib\n",
    "\n",
    "def fuzzy_merge(df1, df2, left_on, right_on, how='inner', cutoff=0.6):\n",
    "    df_other= df2.copy()\n",
    "    df_other[left_on] = [get_closest_match(x, df1[left_on], cutoff) \n",
    "                         for x in df_other[right_on]]\n",
    "    return df1.merge(df_other, on=left_on, how=how)\n",
    "\n",
    "def get_closest_match(x, other, cutoff):\n",
    "    matches = difflib.get_close_matches(x, other, cutoff=cutoff)\n",
    "    return matches[0] if matches else None"
   ]
  },
  {
   "cell_type": "code",
   "execution_count": 56,
   "metadata": {},
   "outputs": [],
   "source": [
    "y = lays.copy()\n",
    "y['company'] = y['company'].str.lower()\n",
    "y['company'] = y['company'].str.replace('inc.','',regex=False)\n",
    "y['company'] = y['company'].str.replace('inc','',regex=False)\n",
    "y['company'] = y['company'].str.replace('therapeutics','',regex=False)\n",
    "y['company'] = y['company'].str.replace('technologies','',regex=False)\n",
    "y['company'] = y['company'].str.replace('financial','',regex=False)\n",
    "y['company'] = y['company'].str.replace('systems','',regex=False)\n",
    "y['company'] = y['company'].str.replace('commerce','',regex=False)\n",
    "y['company'] = y['company'].str.replace('security','',regex=False)\n",
    "y['company'] = y['company'].str.replace('health','',regex=False)\n",
    "y['company'] = y['company'].str.replace('.com','',regex=False)\n",
    "y['company'] = y['company'].str.strip()\n",
    "z = pay.copy()\n",
    "z['company_name'] = z['company_name'].str.lower()\n",
    "z['company_name'] = z['company_name'].str.replace('inc.','',regex=False)\n",
    "z['company_name'] = z['company_name'].str.replace('inc','',regex=False)\n",
    "z['company_name'] = z['company_name'].str.replace('therapeutics','',regex=False)\n",
    "z['company_name'] = z['company_name'].str.replace('technologies','',regex=False)\n",
    "z['company_name'] = z['company_name'].str.replace('financial','',regex=False)\n",
    "z['company_name'] = z['company_name'].str.replace('systems','',regex=False)\n",
    "z['company_name'] = z['company_name'].str.replace('commerce','',regex=False)\n",
    "z['company_name'] = z['company_name'].str.replace('security','',regex=False)\n",
    "z['company_name'] = z['company_name'].str.replace('health','',regex=False)\n",
    "z['company_name'] = z['company_name'].str.replace('.com','',regex=False)\n",
    "z['company_name'] = z['company_name'].str.strip()"
   ]
  },
  {
   "cell_type": "code",
   "execution_count": 59,
   "metadata": {},
   "outputs": [],
   "source": [
    "x = fuzzy_merge(y,z, left_on='company',right_on='company_name',cutoff=0.9)"
   ]
  },
  {
   "cell_type": "code",
   "execution_count": 62,
   "metadata": {},
   "outputs": [],
   "source": [
    "x.to_csv('../data/tech layoffs/merged.csv',index=False)"
   ]
  },
  {
   "cell_type": "code",
   "execution_count": null,
   "metadata": {},
   "outputs": [],
   "source": []
  }
 ],
 "metadata": {
  "kernelspec": {
   "display_name": "base",
   "language": "python",
   "name": "python3"
  },
  "language_info": {
   "codemirror_mode": {
    "name": "ipython",
    "version": 3
   },
   "file_extension": ".py",
   "mimetype": "text/x-python",
   "name": "python",
   "nbconvert_exporter": "python",
   "pygments_lexer": "ipython3",
   "version": "3.9.16"
  },
  "orig_nbformat": 4,
  "vscode": {
   "interpreter": {
    "hash": "9412b45e6a57aa9914730508726d49801d3b2c579f461e1fb13c705887a7b1f6"
   }
  }
 },
 "nbformat": 4,
 "nbformat_minor": 2
}
